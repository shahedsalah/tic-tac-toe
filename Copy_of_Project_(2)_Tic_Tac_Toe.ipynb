{
  "nbformat": 4,
  "nbformat_minor": 0,
  "metadata": {
    "colab": {
      "provenance": []
    },
    "kernelspec": {
      "name": "python3",
      "display_name": "Python 3"
    },
    "language_info": {
      "name": "python"
    }
  },
  "cells": [
    {
      "cell_type": "markdown",
      "source": [
        "\n",
        "<a href=\"https://www.zero-grad.com/\">\n",
        "         <img alt=\"Zero Grad\" src=\"https://lh3.googleusercontent.com/oEMY-qk_B2HW_Fponz1a3u1fLfo3NpO0VFjQKnVW8fH0v93NAWala5Kgp0nN2ubiyZdEMpwhv3Ynv7bXsB0RZ28YfEd_ZlRum75OHEu0-z7XwHfcD3sin7_SORLzg1gz52MsxD3b1WbxQWX1RdR4HP3jpbJTOuCiddl92UBcQH_x-Llx7_XuZuwb9ekN9vYnKsw6U1yL2df4IVrJEDySttzab9qlHvMO7sSekgS64jPVAmATjqXqlvrwM026dhrad-7nX-hfr2uKlUGPuo9xKzVo4EhbUP1-pKBQNPNHO6P0KcReg3NxbtKmWXRyg9LPX0xO-wwXWt9GhCcPXFV_BoY5eQXabCjR3mlr9SO01VgWplas-XF4337_JOm-bVkiaQjQca_N4Gg0hy26TvIGRnHEMIPSgudYPqhMnatoN4xAC715rP82r1svC0_qadXMZHu6D40YqWnY9ZE-iujr2p1_CetxmG-uY94UATy7o-SnxuPchG4QfZkiUgRMr8xNg86bQMuBxbCS_lOyVMwfqwbt2IunlDcZ8yyN_3SJFzFHuFOOjQolgGQrytI0mP1oTwba7je0RtBtCuTck1UCMMsZvMnJhCtWgMmuLoYTkSCzxMXbz0T3L2AClDouA_3dwM7z1gdm8Gq4v06T1KWFUs1adGNH5fuj-pUHEfW4drzzXgolPH5SehqhaNsqdMttCPUzNPIIEjwfULyQi7nlP-w-qydK82mdhdmjQhrprfoGtsPckJkI1Tur60uZI7nLkES5cE3tQrGualSNArRkkU8KN4tStZ0CkmqZNkAlMbfAJSYBD7tDxhGSg922AdLevSLJMTUyg6KuHoY30r7zH1Z8fE0R8aFZL2LJl54OU_tkXEdlFlSnZTOdB-PVTj-yagpt99SetLnQIX5SS_Vxc0BNPKjUZG0oEHYbIxkbZN1O7Rg78xe-thytngS0byfuaeP2X4NYjg29FIffnn72bAUs9Ii0N2mOpABLg1uQMN4MyAa1Mbd_=w1300-h200-no?authuser=1\" >\n",
        "      </a>"
      ],
      "metadata": {
        "id": "hMV-7TpxbEDG"
      }
    },
    {
      "cell_type": "markdown",
      "source": [
        "# Tic Tac Toe Project Description"
      ],
      "metadata": {
        "id": "PhpgbWHJhJOW"
      }
    },
    {
      "cell_type": "markdown",
      "source": [
        " **`(1) Create Empty board (3x3):`**\n",
        "\n",
        "  `1  2  3`\n",
        "\n",
        "  `4 5 6`\n",
        "\n",
        "  `7 8 9`\n",
        "\n",
        " **`(2) Show Board`**\n",
        "\n",
        " **`(3) Set Players Randomly ('X', 'O')`**\n",
        "\n",
        " **`(4) Take Input from Player`**\n",
        "\n",
        " **`(5) Check Full Board >> Draw`**\n",
        "\n",
        " **`(6) Check if Someone wins >> Finish`**"
      ],
      "metadata": {
        "id": "9XJyp9xehPBl"
      }
    },
    {
      "cell_type": "markdown",
      "source": [
        "# Template"
      ],
      "metadata": {
        "id": "m2nflmTioFy_"
      }
    },
    {
      "cell_type": "markdown",
      "source": [
        "## Empty Board"
      ],
      "metadata": {
        "id": "GsE-z7Son-xm"
      }
    },
    {
      "cell_type": "code",
      "source": [
        "def create_empty_board():\n",
        "  board = [[1,2,3],\n",
        "           [4,5,6],\n",
        "           [7,8,9]]\n",
        "\n",
        "  for row in board:\n",
        "      for col in row:\n",
        "        print(col, end='\\t')\n",
        "      print('\\n')\n"
      ],
      "metadata": {
        "id": "YueCJNtPnndY"
      },
      "execution_count": null,
      "outputs": []
    },
    {
      "cell_type": "code",
      "source": [
        "create_empty_board()"
      ],
      "metadata": {
        "colab": {
          "base_uri": "https://localhost:8080/"
        },
        "id": "RMlzPMyHRIq7",
        "outputId": "779ec0b8-9069-431d-8529-add4abed2b58"
      },
      "execution_count": null,
      "outputs": [
        {
          "output_type": "stream",
          "name": "stdout",
          "text": [
            "1\t2\t3\t\n",
            "\n",
            "4\t5\t6\t\n",
            "\n",
            "7\t8\t9\t\n",
            "\n"
          ]
        }
      ]
    },
    {
      "cell_type": "markdown",
      "source": [
        "## Show Board"
      ],
      "metadata": {
        "id": "qjKBWyq4f3Fr"
      }
    },
    {
      "cell_type": "code",
      "source": [
        "def show_board(board):\n",
        "  for row in board:\n",
        "      for col in row:\n",
        "        print(col, end='\\t')\n",
        "      print('\\n')"
      ],
      "metadata": {
        "id": "Bn6VqZo_Xze5"
      },
      "execution_count": null,
      "outputs": []
    },
    {
      "cell_type": "code",
      "source": [
        "board = [[1,2,3],[4,'X',6],[7,8,9]]\n",
        "show_board(board)"
      ],
      "metadata": {
        "colab": {
          "base_uri": "https://localhost:8080/"
        },
        "id": "Z7lIOpFfX3dU",
        "outputId": "18f13c30-8f91-42ba-b4a5-4f4995c0c779"
      },
      "execution_count": null,
      "outputs": [
        {
          "output_type": "stream",
          "name": "stdout",
          "text": [
            "1\t2\t3\t\n",
            "\n",
            "4\tX\t6\t\n",
            "\n",
            "7\t8\t9\t\n",
            "\n"
          ]
        }
      ]
    },
    {
      "cell_type": "markdown",
      "source": [
        "## Set Players"
      ],
      "metadata": {
        "id": "ZaIwkooboJ5p"
      }
    },
    {
      "cell_type": "code",
      "source": [
        "from random import choice\n",
        "def set_players():\n",
        "  from random import randint\n",
        "  player1 = choice(['X', 'O'])\n",
        "  if player1 == 'X':\n",
        "    player2 = 'O'\n",
        "  else:\n",
        "    player2 = 'X'\n",
        "\n",
        "  return player1, player2\n"
      ],
      "metadata": {
        "id": "we7UkC6AhFwy"
      },
      "execution_count": null,
      "outputs": []
    },
    {
      "cell_type": "code",
      "source": [
        "set_players()"
      ],
      "metadata": {
        "colab": {
          "base_uri": "https://localhost:8080/"
        },
        "id": "3A_FDAHLWxNF",
        "outputId": "6bee55ef-7a95-40d0-a41c-97a3aaddb2de"
      },
      "execution_count": null,
      "outputs": [
        {
          "output_type": "execute_result",
          "data": {
            "text/plain": [
              "('O', 'X')"
            ]
          },
          "metadata": {},
          "execution_count": 15
        }
      ]
    },
    {
      "cell_type": "markdown",
      "source": [
        "## Take Input"
      ],
      "metadata": {
        "id": "VNl11PuZgDjc"
      }
    },
    {
      "cell_type": "code",
      "source": [
        "def take_input(board, player):\n",
        "  while True:\n",
        "    player_input = input('please enter a number between1,9 represents an empty position:')\n",
        "    if player_input == '1' and board[0][0].isdigit():\n",
        "      board[0][0] = player\n",
        "      break\n",
        "    elif player_input == '2' and  board[0][1].isdigit():\n",
        "      board[0][1] = player\n",
        "      break\n",
        "    elif player_input == '3'  and  board[0][2].isdigit():\n",
        "      board[0][2] = player\n",
        "      break\n",
        "    elif player_input == '4'  and  board[1][0].isdigit():\n",
        "      board[1][0] = player\n",
        "      break\n",
        "    elif player_input == '5'  and  board[1][1].isdigit():\n",
        "      board[1][1] = player\n",
        "      break\n",
        "    elif player_input == '6'  and  board[1][2].isdigit():\n",
        "      board[1][2] = player\n",
        "      break\n",
        "    elif player_input == '7'  and  board[2][0].isdigit():\n",
        "      board[2][0] = player\n",
        "      break\n",
        "    elif player_input == '8'  and  board[2][1].isdigit():\n",
        "      board[2][1] = player\n",
        "      break\n",
        "    elif player_input == '9'  and  board[2][2].isdigit():\n",
        "      board[2][2] = player\n",
        "      break\n",
        "    else:\n",
        "      print('Invalid Input')\n",
        "  show_board(board)\n",
        "\n"
      ],
      "metadata": {
        "id": "pZAd299MY2fw"
      },
      "execution_count": null,
      "outputs": []
    },
    {
      "cell_type": "code",
      "source": [
        "board = [['1','2','3'],['4','X','6'],['7','8','9']]\n",
        "player ='O'\n",
        "player_input = '8'\n",
        "take_input(board, player)\n"
      ],
      "metadata": {
        "colab": {
          "base_uri": "https://localhost:8080/"
        },
        "id": "bH2UI4GEcAVp",
        "outputId": "5c689414-6ed9-48b2-a6fd-73ade1e95d87"
      },
      "execution_count": null,
      "outputs": [
        {
          "output_type": "stream",
          "name": "stdout",
          "text": [
            "please enter a number between1,9 represents an empty position:5\n",
            "Invalid Input\n",
            "please enter a number between1,9 represents an empty position:6\n",
            "1\t2\t3\t\n",
            "\n",
            "4\tX\tO\t\n",
            "\n",
            "7\t8\t9\t\n",
            "\n"
          ]
        }
      ]
    },
    {
      "cell_type": "markdown",
      "source": [
        "## Check Full Board"
      ],
      "metadata": {
        "id": "mgCFF48jgVq7"
      }
    },
    {
      "cell_type": "code",
      "source": [
        "def check_full_board(board):\n",
        "  for row in board:\n",
        "    for col in row:\n",
        "      if col.isdigit():\n",
        "        return False\n",
        "  return True"
      ],
      "metadata": {
        "id": "obxUdjg_ThZi"
      },
      "execution_count": null,
      "outputs": []
    },
    {
      "cell_type": "code",
      "source": [
        "board = [['o','x','x'],['o','X','o'],['x','o','x']]\n",
        "check_full_board(board)"
      ],
      "metadata": {
        "colab": {
          "base_uri": "https://localhost:8080/"
        },
        "id": "TcLZt1PqS_9i",
        "outputId": "5cd71345-1531-4358-fb0f-eabcb14348ab"
      },
      "execution_count": null,
      "outputs": [
        {
          "output_type": "execute_result",
          "data": {
            "text/plain": [
              "True"
            ]
          },
          "metadata": {},
          "execution_count": 27
        }
      ]
    },
    {
      "cell_type": "code",
      "source": [
        "board = [['o','x','x'],['4','X','o'],['x','o','x']]\n",
        "check_full_board(board)"
      ],
      "metadata": {
        "colab": {
          "base_uri": "https://localhost:8080/"
        },
        "id": "s475eihMkEqL",
        "outputId": "1e81c4a8-d7dc-4727-d1c9-17a783677a18"
      },
      "execution_count": null,
      "outputs": [
        {
          "output_type": "execute_result",
          "data": {
            "text/plain": [
              "False"
            ]
          },
          "metadata": {},
          "execution_count": 28
        }
      ]
    },
    {
      "cell_type": "markdown",
      "source": [
        "## Check Win\n"
      ],
      "metadata": {
        "id": "OjfyXPCeoQM4"
      }
    },
    {
      "cell_type": "code",
      "source": [
        "def check_win(board):\n",
        "  return board[0][0] == board[0][1] == board[0][2] or \\\n",
        "         board[1][0] == board[1][1] == board[1][2] or \\\n",
        "         board[2][0] == board[2][1] == board[2][2] or \\\n",
        "         board[0][0] == board[1][0] == board[2][0] or \\\n",
        "         board[0][1] == board[1][1] == board[2][1] or \\\n",
        "         board[0][2] == board[1][2] == board[2][2] or \\\n",
        "         board[0][0] == board[1][1] == board[2][2] or \\\n",
        "         board[0][2] == board[1][1] == board[2][0]\n",
        "\n",
        "\n"
      ],
      "metadata": {
        "id": "NTxJ1qsJmhoG"
      },
      "execution_count": null,
      "outputs": []
    },
    {
      "cell_type": "code",
      "source": [
        "board = [['o','x','x'],['o','o','x'],['x','o','x']]\n",
        "show_board(board)\n",
        "check_win(board)"
      ],
      "metadata": {
        "colab": {
          "base_uri": "https://localhost:8080/"
        },
        "id": "E-mETiZEfZqp",
        "outputId": "61ac57d1-2fd1-4bb1-8f87-68d84ee9da7d"
      },
      "execution_count": null,
      "outputs": [
        {
          "output_type": "stream",
          "name": "stdout",
          "text": [
            "o\tx\tx\t\n",
            "\n",
            "o\to\tx\t\n",
            "\n",
            "x\to\tx\t\n",
            "\n"
          ]
        },
        {
          "output_type": "execute_result",
          "data": {
            "text/plain": [
              "True"
            ]
          },
          "metadata": {},
          "execution_count": 30
        }
      ]
    },
    {
      "cell_type": "code",
      "source": [
        "board = [['o','x','o'],['o','o','x'],['x','o','x']]\n",
        "show_board(board)\n",
        "check_win(board)"
      ],
      "metadata": {
        "colab": {
          "base_uri": "https://localhost:8080/"
        },
        "id": "CmlQlsjZkIut",
        "outputId": "edbd0e0a-51a9-43e2-8424-2b4026ae8ee8"
      },
      "execution_count": null,
      "outputs": [
        {
          "output_type": "stream",
          "name": "stdout",
          "text": [
            "o\tx\to\t\n",
            "\n",
            "o\to\tx\t\n",
            "\n",
            "x\to\tx\t\n",
            "\n"
          ]
        },
        {
          "output_type": "execute_result",
          "data": {
            "text/plain": [
              "False"
            ]
          },
          "metadata": {},
          "execution_count": 31
        }
      ]
    },
    {
      "cell_type": "markdown",
      "source": [
        "## Let's Play"
      ],
      "metadata": {
        "id": "uI9u-XGV2S7P"
      }
    },
    {
      "cell_type": "code",
      "source": [
        "def play():\n",
        " player1 , player2 = set_players()\n",
        " print(f'player1 is {player1}')\n",
        " print(f'player2 is {player2}')\n",
        " board = [['1', '2' ,'3'],\n",
        "            ['4','5','6'],\n",
        "            ['7','8','9']]\n",
        " show_board(board)\n",
        " while True:\n",
        "  for player in [player1, player2]:\n",
        "    print(f'{player} turn')\n",
        "    take_input(board, player)\n",
        "\n",
        "    if check_win(board):\n",
        "      print(f'{player} wins')\n",
        "      break\n",
        "    if check_full_board(board):\n",
        "      print('game finished , Draw')\n",
        "      break\n",
        "  if check_win(board) or check_full_board(board):\n",
        "    break\n",
        "\n"
      ],
      "metadata": {
        "id": "4nIAPOhSpksM"
      },
      "execution_count": null,
      "outputs": []
    },
    {
      "cell_type": "code",
      "source": [
        "play()"
      ],
      "metadata": {
        "colab": {
          "base_uri": "https://localhost:8080/"
        },
        "id": "7m9ENdZp1Ffg",
        "outputId": "440864ef-d734-4e6a-881d-c4d188f4b340"
      },
      "execution_count": null,
      "outputs": [
        {
          "output_type": "stream",
          "name": "stdout",
          "text": [
            "player1 is X\n",
            "player2 is O\n",
            "1\t2\t3\t\n",
            "\n",
            "4\t5\t6\t\n",
            "\n",
            "7\t8\t9\t\n",
            "\n",
            "X turn\n",
            "please enter a number between1,9 represents an empty position:1\n",
            "X\t2\t3\t\n",
            "\n",
            "4\t5\t6\t\n",
            "\n",
            "7\t8\t9\t\n",
            "\n",
            "O turn\n",
            "please enter a number between1,9 represents an empty position:2\n",
            "X\tO\t3\t\n",
            "\n",
            "4\t5\t6\t\n",
            "\n",
            "7\t8\t9\t\n",
            "\n",
            "X turn\n",
            "please enter a number between1,9 represents an empty position:c\n",
            "Invalid Input\n",
            "please enter a number between1,9 represents an empty position:7\n",
            "X\tO\t3\t\n",
            "\n",
            "4\t5\t6\t\n",
            "\n",
            "X\t8\t9\t\n",
            "\n",
            "O turn\n",
            "please enter a number between1,9 represents an empty position:3\n",
            "X\tO\tO\t\n",
            "\n",
            "4\t5\t6\t\n",
            "\n",
            "X\t8\t9\t\n",
            "\n",
            "X turn\n",
            "please enter a number between1,9 represents an empty position:7\n",
            "Invalid Input\n",
            "please enter a number between1,9 represents an empty position:6\n",
            "X\tO\tO\t\n",
            "\n",
            "4\t5\tX\t\n",
            "\n",
            "X\t8\t9\t\n",
            "\n",
            "O turn\n",
            "please enter a number between1,9 represents an empty position:4\n",
            "X\tO\tO\t\n",
            "\n",
            "O\t5\tX\t\n",
            "\n",
            "X\t8\t9\t\n",
            "\n",
            "X turn\n",
            "please enter a number between1,9 represents an empty position:5\n",
            "X\tO\tO\t\n",
            "\n",
            "O\tX\tX\t\n",
            "\n",
            "X\t8\t9\t\n",
            "\n",
            "O turn\n",
            "please enter a number between1,9 represents an empty position:8\n",
            "X\tO\tO\t\n",
            "\n",
            "O\tX\tX\t\n",
            "\n",
            "X\tO\t9\t\n",
            "\n",
            "X turn\n",
            "please enter a number between1,9 represents an empty position:9\n",
            "X\tO\tO\t\n",
            "\n",
            "O\tX\tX\t\n",
            "\n",
            "X\tO\tX\t\n",
            "\n",
            "X wins\n"
          ]
        }
      ]
    },
    {
      "cell_type": "code",
      "source": [],
      "metadata": {
        "id": "O911u9mL3Akr"
      },
      "execution_count": null,
      "outputs": []
    }
  ]
}